{
 "cells": [
  {
   "cell_type": "markdown",
   "id": "509b2e5b",
   "metadata": {},
   "source": [
    "# Manipulating Excel Workbooks with Python\n",
    "\n",
    "In this demo, we will show that Python (via [`openpyxl`](https://openpyxl.readthedocs.io/en/stable/))can be used to both read and write to Excel workbooks. `openpyxl` allows not only data interaction by cell and range, but also embedding of formulas and the construction of charts. To demonstrate these features, we will do the following:\n",
    "\n",
    "1. Construct a very simple Income Statement class\n",
    "2. Create a sheet that holds income data for the first year\n",
    "3. Project the income into the future based upon a couple growth parameters for revenue and cost of goods sold. *The projection will rely on embedded Excel formulas and not Python-only functionality.*\n",
    "4. Produce a chart that shows a stream of earnings flows through the projection window."
   ]
  },
  {
   "cell_type": "code",
   "execution_count": 3,
   "id": "dc3352f8",
   "metadata": {},
   "outputs": [
    {
     "name": "stdout",
     "output_type": "stream",
     "text": [
      "Populating the interactive namespace from numpy and matplotlib\n"
     ]
    }
   ],
   "source": [
    "import tensorflow as tf\n",
    "import tensorflow_probability as tfp\n",
    "tfd = tfp.distributions\n",
    "import openpyxl as xl\n",
    "from dataclasses import dataclass\n",
    "import seaborn as sb\n",
    "\n",
    "%pylab inline"
   ]
  },
  {
   "cell_type": "markdown",
   "id": "b1db22ee",
   "metadata": {},
   "source": [
    "## Define an Income Statement "
   ]
  },
  {
   "cell_type": "markdown",
   "id": "e268cf21",
   "metadata": {},
   "source": [
    "Our bare bones income statement will have no nuance whatsoever, and encompasses only the path from revenues to net earnings. We will assume the following:\n",
    "\n",
    "1. The statement covers one year, and the fiscal year coincides with the calendar year. (Consequently, we will only represent the period by year.)\n",
    "2. Revenues in year 0 are 100. Prices are constant every year at \\$1 per unit, only unit volume changes.\n",
    "3. The cost of producing each unit is constant at \\$0.80.\n",
    "4. The firm has an outstanding bond of 100 payable at 2% in every year we care about.\n",
    "5. The firm has a tax rate of 10%, applied on earnings after interest.\n",
    "\n",
    "This parsimony is not required, the same kind of operations could occur with a much more realistic model of income."
   ]
  },
  {
   "cell_type": "code",
   "execution_count": 7,
   "id": "b94db435",
   "metadata": {},
   "outputs": [
    {
     "data": {
      "text/plain": [
       "{'period': 0,\n",
       " 'revenues': 100,\n",
       " 'cogs': -80,\n",
       " 'interest': 2,\n",
       " 'tax_rate': 0.1,\n",
       " 'ebit': 20,\n",
       " 'pretax': 22,\n",
       " 'tax': -2.2,\n",
       " 'net_earnings': 19.8}"
      ]
     },
     "execution_count": 7,
     "metadata": {},
     "output_type": "execute_result"
    }
   ],
   "source": [
    "@dataclass\n",
    "class IncomeStatement:\n",
    "    period: int\n",
    "    revenues: float\n",
    "    cogs: float\n",
    "    interest: float\n",
    "    tax_rate: float\n",
    "        \n",
    "    def __post_init__(self) -> None:\n",
    "        self.ebit: float = self.revenues + self.cogs\n",
    "        self.pretax: float = self.ebit + self.interest\n",
    "        self.tax: float = (self.tax_rate * self.pretax) * -1\n",
    "        self.net_earnings: float = self.pretax + self.tax\n",
    "            \n",
    "            \n",
    "start: IncomeStatement = IncomeStatement(\n",
    "    period=0,\n",
    "    revenues=100,\n",
    "    cogs=-80,\n",
    "    interest=2,\n",
    "    tax_rate=0.1\n",
    ")\n",
    "    \n",
    "start.__dict__"
   ]
  },
  {
   "cell_type": "markdown",
   "id": "c5c63374",
   "metadata": {},
   "source": [
    "## Generate Workbook\n",
    "\n",
    "Workbooks can either be created or loaded. Here we are going to create one programmatically:"
   ]
  },
  {
   "cell_type": "code",
   "execution_count": 8,
   "id": "9b102298",
   "metadata": {},
   "outputs": [
    {
     "name": "stdout",
     "output_type": "stream",
     "text": [
      "rm: income_statement.xlsx: No such file or directory\r\n"
     ]
    }
   ],
   "source": [
    "!rm income_statement.xlsx"
   ]
  },
  {
   "cell_type": "code",
   "execution_count": 10,
   "id": "27208e58",
   "metadata": {},
   "outputs": [],
   "source": [
    "class IncomeWorkbook:\n",
    "        \n",
    "    def __init__(self, file_name: str = \"income_statement.xlsx\") -> None:\n",
    "        self.file_name: str = file_name\n",
    "        self.wb: xl.Workbook = xl.Workbook()\n",
    "        self.model = self.wb.active\n",
    "        self.unit_data = self.wb.create_sheet(\"unit_data\", 0)\n",
    "        self.model.title = \"model\"\n",
    "        self.unit_data.title = \"unit_data\"\n",
    "        \n",
    "    def gen_unit_data(self, num_years: int = 20, init_val: float = 100.) -> None:\n",
    "        self.unit_data[\"A1\"] = \"Years\"\n",
    "        self.unit_data[\"A2\"] = \"Units\"\n",
    "        self.unit_data[\"A3\"] = \"=A1+A2\"\n",
    "#         self.unit_data[\"A4\"] = self.unit_data.ce\n",
    "\n",
    "    def save(self) -> None:\n",
    "        self.wb.save(self.file_name)\n",
    "    \n",
    "test: IncomeWorkbook = IncomeWorkbook()"
   ]
  },
  {
   "cell_type": "code",
   "execution_count": 13,
   "id": "060f7e64",
   "metadata": {},
   "outputs": [],
   "source": [
    "test.gen_unit_data()\n",
    "test.save()"
   ]
  },
  {
   "cell_type": "code",
   "execution_count": null,
   "id": "abde3904",
   "metadata": {},
   "outputs": [],
   "source": []
  }
 ],
 "metadata": {
  "kernelspec": {
   "display_name": "Python 3",
   "language": "python",
   "name": "python3"
  },
  "language_info": {
   "codemirror_mode": {
    "name": "ipython",
    "version": 3
   },
   "file_extension": ".py",
   "mimetype": "text/x-python",
   "name": "python",
   "nbconvert_exporter": "python",
   "pygments_lexer": "ipython3",
   "version": "3.7.11"
  }
 },
 "nbformat": 4,
 "nbformat_minor": 5
}
