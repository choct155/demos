{
 "cells": [
  {
   "cell_type": "markdown",
   "id": "e77aac22-77d8-4cbc-a897-70986ad6c6f5",
   "metadata": {},
   "source": [
    "# Class Exercises"
   ]
  },
  {
   "cell_type": "markdown",
   "id": "22436358-116d-4e3e-a7b5-076e9db3017e",
   "metadata": {},
   "source": [
    "Interval\n",
    "TradeClose\n",
    "NetPresentValue\n",
    "TimeSeries\n",
    "Calculator"
   ]
  },
  {
   "cell_type": "code",
   "execution_count": 7,
   "id": "49ff0a3d-b2bc-4b6a-acf1-8319c8a042bd",
   "metadata": {},
   "outputs": [],
   "source": [
    "from typing import List\n",
    "import pandas as pd"
   ]
  },
  {
   "cell_type": "code",
   "execution_count": 5,
   "id": "f3fe1964-7e60-4a40-b826-da01c4f23d74",
   "metadata": {},
   "outputs": [],
   "source": [
    "class SimpleCalculator:\n",
    "    \n",
    "    def add(self, x: float, y: float ) -> float:\n",
    "        ...\n",
    "        \n",
    "    def subtract(self, x: float, y: float ) -> float:\n",
    "        ...\n",
    "        \n",
    "    def multiply(self, x: float, y: float ) -> float:\n",
    "        ...\n",
    "        \n",
    "    def divide(self, x: float, y: float ) -> float:\n",
    "        ...\n",
    "        \n",
    "calc: SimpleCalculator = SimpleCalculator()"
   ]
  },
  {
   "cell_type": "code",
   "execution_count": null,
   "id": "6511c2b8-541d-4cc7-8aaa-05af3a9a61bd",
   "metadata": {},
   "outputs": [],
   "source": [
    "class TimeSeries:\n",
    "    \n",
    "    def __init__(self, date_range: List[pd.Timestamp], data: List[float]) -> None:\n",
    "        ...\n",
    "        \n",
    "    def first_differences(self) -> \"TimeSeres\":\n",
    "        ...\n",
    "        \n",
    "    def moving_avg(self, num_periods: int) -> \"TimeSeries\":\n",
    "        ...\n",
    "        \n",
    "    def moving_std(self, num_periods: int) -> \"TimeSeries\":\n",
    "        ...\n",
    "    \n",
    "    def series_w_moving_stats(self, num_periods: int) -> Dict[str, \"TimeSeries\"]:\n",
    "        ..."
   ]
  }
 ],
 "metadata": {
  "kernelspec": {
   "display_name": "Python 3",
   "language": "python",
   "name": "python3"
  },
  "language_info": {
   "codemirror_mode": {
    "name": "ipython",
    "version": 3
   },
   "file_extension": ".py",
   "mimetype": "text/x-python",
   "name": "python",
   "nbconvert_exporter": "python",
   "pygments_lexer": "ipython3",
   "version": "3.7.11"
  }
 },
 "nbformat": 4,
 "nbformat_minor": 5
}
