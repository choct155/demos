{
 "cells": [
  {
   "cell_type": "markdown",
   "id": "1f88f937-2d76-4f83-b023-9526913e71a0",
   "metadata": {},
   "source": [
    "# Subtyping\n",
    "\n",
    "Now that we understand that user-defined classes are just types that we can write from scratch to suit our use case, we might wonder how we can adapt existing classes to fit our needs. In this notebook, we are going to introduce the idea of inheritance.\n",
    "\n",
    "To motivate this idea, we'll reuse our very simple `IncomeStatement` class, and extend the class to add complexity."
   ]
  },
  {
   "cell_type": "code",
   "execution_count": 5,
   "id": "67018a7c-7cea-4276-9ac0-8f0b21cafbc2",
   "metadata": {},
   "outputs": [],
   "source": [
    "from typing import List, Dict, Callable\n",
    "import pandas as pd"
   ]
  },
  {
   "cell_type": "markdown",
   "id": "71b01f69-e23a-49bc-bd48-c3f88cb106b3",
   "metadata": {},
   "source": [
    "## Base Class\n",
    "\n",
    "Our super simple `IncomeStatement` features only has basic components of an income statement, which should leave plenty of room to complicate matters. Don't worry too much about the methods beyond the constructor, which are really only in play to make it easy to visually inspect the statements."
   ]
  },
  {
   "cell_type": "code",
   "execution_count": 20,
   "id": "beb3d05c-71f0-46c6-a01a-bf225047b9fa",
   "metadata": {},
   "outputs": [
    {
     "name": "stdout",
     "output_type": "stream",
     "text": [
      "                     2020-12-31         2021-12-31\n",
      "duration      365 days 00:00:00  364 days 00:00:00\n",
      "revenues                    100                100\n",
      "cogs                         80                 80\n",
      "tax_rate                    0.2                0.2\n",
      "gross_margin                 20                 20\n",
      "tax                           4                  4\n",
      "earnings                     16                 16\n"
     ]
    }
   ],
   "source": [
    "class StatementPeriod:\n",
    "    \n",
    "    def __init__(self, start: pd.Timestamp, end: pd.Timestamp) -> None:\n",
    "        self.start: pd.Timestamp = start\n",
    "        self.end: pd.Timestamp = end\n",
    "        self.duration: pd.Timedelta = self.end - self.start\n",
    "            \n",
    "    def __str__(self) -> str:\n",
    "        return f\"StatementPeriod(start={self.start}, end={self.end}, duration={self.duration})\"\n",
    "    \n",
    "    def __repr__(self) -> str:\n",
    "        return str(self)\n",
    "\n",
    "class IncomeStatement:\n",
    "\n",
    "    def __init__(\n",
    "        self,\n",
    "        period: StatementPeriod,\n",
    "        revenues: float,\n",
    "        cogs: float,\n",
    "        tax_rate: float\n",
    "    ) -> None:\n",
    "        self.period: StatementPeriod = period\n",
    "        self.revenues: float = revenues\n",
    "        self.cogs: float = cogs\n",
    "        self.tax_rate: float = tax_rate\n",
    "        self.gross_margin: float = self.revenues - self.cogs\n",
    "        self.tax: float = self.tax_rate * self.gross_margin\n",
    "        self.earnings: float = self.gross_margin - self.tax\n",
    "            \n",
    "    def to_df(self) -> pd.DataFrame:\n",
    "        out: pd.DataFrame = pd.DataFrame(self.__dict__, index=[self.period.end]).drop(\"period\", axis=1)\n",
    "        out[\"duration\"] = self.period.duration\n",
    "        out = out[[\"duration\"] + [col for col in out.columns if col != \"duration\"]]\n",
    "        return out.T    \n",
    "            \n",
    "    def __str__(self) -> str:\n",
    "        return str(self.to_df())\n",
    "    \n",
    "    def __repr__(self) -> str:\n",
    "        return f\"IncomeStatement({str(self.__dict__)})\"\n",
    "    \n",
    "    @staticmethod\n",
    "    def many_to_df(stmts: List[\"IncomeStatement\"]) -> pd.DataFrame:\n",
    "        out: pd.DataFrame = pd.concat([\n",
    "            inc.to_df() for inc in stmts\n",
    "        ], axis=1)\n",
    "        return out\n",
    "    \n",
    "    @staticmethod\n",
    "    def many_to_str(stmts: List[\"IncomeStatement\"]) -> str:\n",
    "        df: pd.DataFrame = IncomeStatement.many_to_df(stmts)\n",
    "        return str(df)\n",
    "        \n",
    "\n",
    "example_income_1: IncomeStatement = IncomeStatement(\n",
    "    period=StatementPeriod(pd.Timestamp(\"2020-01-01\"), pd.Timestamp(\"2020-12-31\")),\n",
    "    revenues=100.,\n",
    "    cogs=80.,\n",
    "    tax_rate=0.2\n",
    ")\n",
    "example_income_2: IncomeStatement = IncomeStatement(\n",
    "    period=StatementPeriod(pd.Timestamp(\"2021-01-01\"), pd.Timestamp(\"2021-12-31\")),\n",
    "    revenues=100.,\n",
    "    cogs=80.,\n",
    "    tax_rate=0.2\n",
    ")\n",
    "    \n",
    "print(IncomeStatement.many_to_str(stmts=[example_income_1, example_income_2]))"
   ]
  },
  {
   "cell_type": "markdown",
   "id": "c622ccfb-2c8d-4c52-a918-179eae3ebfc6",
   "metadata": {},
   "source": [
    "Now suppose we want to add the capacity to include debt? Our class is already written, so what do we do now?"
   ]
  },
  {
   "cell_type": "markdown",
   "id": "99a950a3-caf6-46c6-a4a2-631e9061bff0",
   "metadata": {},
   "source": [
    "## [Inheritance](https://realpython.com/inheritance-composition-python/) (a.k.a. nominal subtyping)\n",
    "\n",
    "Inheritance is about parent-child relationships between types. In this case, the parent tends to be the more general type, and the child tends to be the more specific. The classic example is to have some class `Animal` and another class `Dog` that inherits from it. The `Dog` type would then need to have the members (i.e. attributes and behaviors) that `Animal` has, while retaining the option to add members or alter their implementation. Sticking with the theme, our parent class will be `IncomeStatement` and our child class will be `DetailedIncomeStatement` which extends `IncomeStatement` with information about long-term debt.\n",
    "\n",
    "Notice our implementation will differ in a couple different ways:\n",
    "\n",
    "1. When we declare our class, we put the parent class (i.e. `IncomeStatement`) in parentheses after the class name. This is how we tell Python that we are inheriting from it.\n",
    "2. We *only* implement the constructor because we are updating our attributes. We do absolutely nothing to implement the remaining methods."
   ]
  },
  {
   "cell_type": "code",
   "execution_count": 24,
   "id": "3d42c78f-1ca0-4e51-897d-1355fa6fd21f",
   "metadata": {},
   "outputs": [],
   "source": [
    "class DetailedIncomeStatement(IncomeStatement):\n",
    "\n",
    "    def __init__(\n",
    "        self,\n",
    "        period: StatementPeriod,\n",
    "        revenues: float,\n",
    "        cogs: float,\n",
    "        debt_outstanding: float,\n",
    "        interest_rate: float,\n",
    "        tax_rate: float\n",
    "    ) -> None:\n",
    "        self.period: StatementPeriod = period\n",
    "        self.revenues: float = revenues\n",
    "        self.cogs: float = cogs\n",
    "        self.debt_outstanding: float = debt_outstanding\n",
    "        self.interest_rate: float = interest_rate\n",
    "        self.debt_service: float = self.debt_outstanding * self.interest_rate\n",
    "        self.tax_rate: float = tax_rate\n",
    "        self.gross_margin: float = self.revenues - self.cogs\n",
    "        self.pretax: float = self.gross_margin - self.debt_service\n",
    "        self.tax: float = self.tax_rate * self.pretax\n",
    "        self.earnings: float = self.pretax - self.tax\n",
    "            \n",
    "detailed_income_1: DetailedIncomeStatement = DetailedIncomeStatement(\n",
    "    period=StatementPeriod(pd.Timestamp(\"2020-01-01\"), pd.Timestamp(\"2020-12-31\")),\n",
    "    revenues=100.,\n",
    "    cogs=80.,\n",
    "    debt_outstanding=100.,\n",
    "    interest_rate=0.05,\n",
    "    tax_rate=0.2\n",
    ")\n",
    "detailed_income_2: DetailedIncomeStatement = DetailedIncomeStatement(\n",
    "    period=StatementPeriod(pd.Timestamp(\"2021-01-01\"), pd.Timestamp(\"2021-12-31\")),\n",
    "    revenues=100.,\n",
    "    cogs=80.,\n",
    "    debt_outstanding=100.,\n",
    "    interest_rate=0.05,\n",
    "    tax_rate=0.2\n",
    ")"
   ]
  },
  {
   "cell_type": "markdown",
   "id": "d45e17f1-30c3-4724-b7db-0041addd1087",
   "metadata": {},
   "source": [
    "Hmmm, it would be nice to inspect our classes, but we didn't write new methods to represent the data in a human-friendly way. What happens if we try to print it?"
   ]
  },
  {
   "cell_type": "code",
   "execution_count": 26,
   "id": "02f06995-d323-4958-a52b-e376b0c993e8",
   "metadata": {},
   "outputs": [
    {
     "name": "stdout",
     "output_type": "stream",
     "text": [
      "                         2020-12-31\n",
      "duration          365 days 00:00:00\n",
      "revenues                        100\n",
      "cogs                             80\n",
      "debt_outstanding                100\n",
      "interest_rate                  0.05\n",
      "debt_service                      5\n",
      "tax_rate                        0.2\n",
      "gross_margin                     20\n",
      "pretax                           15\n",
      "tax                               3\n",
      "earnings                         12\n"
     ]
    }
   ],
   "source": [
    "print(str(detailed_income_1))"
   ]
  },
  {
   "cell_type": "markdown",
   "id": "e03fd185-0e32-4a53-8be7-ae921d974f9e",
   "metadata": {},
   "source": [
    "Woah! Even though we didn't tell `DetailedIncomeStatement` how to print, it somehow inferred what we wanted to see. The key is that we inherited this way of printing the data from `IncomeStatement` via inheritance. We implemented the `__str__()` method for `IncomeStatement`, so that implementation still applies unless we explicitly decide to reimplement. This behavior is a key benefit of subtyping: *even as we complicate our ask we can leverage our previous investment to get some things for free*.\n",
    "\n",
    "What about those static methods. They were written explicitly for instances of `IncomeStatement`, not `DetailedIncomeStatement`. Can we still use them?"
   ]
  },
  {
   "cell_type": "code",
   "execution_count": 27,
   "id": "96afe763-10af-40d2-a803-20b6d284be4a",
   "metadata": {},
   "outputs": [
    {
     "name": "stdout",
     "output_type": "stream",
     "text": [
      "                         2020-12-31         2021-12-31\n",
      "duration          365 days 00:00:00  364 days 00:00:00\n",
      "revenues                        100                100\n",
      "cogs                             80                 80\n",
      "debt_outstanding                100                100\n",
      "interest_rate                  0.05               0.05\n",
      "debt_service                      5                  5\n",
      "tax_rate                        0.2                0.2\n",
      "gross_margin                     20                 20\n",
      "pretax                           15                 15\n",
      "tax                               3                  3\n",
      "earnings                         12                 12\n"
     ]
    }
   ],
   "source": [
    "print(IncomeStatement.many_to_str(stmts=[detailed_income_1, detailed_income_2]))"
   ]
  },
  {
   "cell_type": "markdown",
   "id": "120ec893-8f6a-4be9-8451-81a250c58046",
   "metadata": {},
   "source": [
    "Enter the second major benefit: *if type B is a subtype of type A, we can use type B everywhere that we can use type A*. In our case, since `DetailedIncomeStatement` is a subtype of `IncomeStatement`, we can use `DetailedIncomeStatement` everywhere that we are allowed to use `IncomeStatement`. For you nerds out there, this is called the [Liskov Substitution Principle](https://en.wikipedia.org/wiki/Liskov_substitution_principle). It provides us with another source of flexibility by again allowing us to leverage previous investment."
   ]
  }
 ],
 "metadata": {
  "kernelspec": {
   "display_name": "Python 3",
   "language": "python",
   "name": "python3"
  },
  "language_info": {
   "codemirror_mode": {
    "name": "ipython",
    "version": 3
   },
   "file_extension": ".py",
   "mimetype": "text/x-python",
   "name": "python",
   "nbconvert_exporter": "python",
   "pygments_lexer": "ipython3",
   "version": "3.7.11"
  }
 },
 "nbformat": 4,
 "nbformat_minor": 5
}
