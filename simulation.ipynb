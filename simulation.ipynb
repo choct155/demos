{
 "cells": [
  {
   "cell_type": "markdown",
   "id": "17fe858c-14da-49d6-83a3-1fa5fa60cc26",
   "metadata": {},
   "source": [
    "# Simulation\n",
    "## Chapter from Regression and Other Stories"
   ]
  },
  {
   "cell_type": "code",
   "execution_count": 2,
   "id": "b55c8abf-a75b-47ac-9ae7-9ef1cd2bdf0d",
   "metadata": {},
   "outputs": [],
   "source": [
    "import tensorflow as tf\n",
    "import tensorflow_probability as tfp\n",
    "tfd = tfp.distributions\n",
    "from typing import Callable\n",
    "import plotly.graph_objs as go"
   ]
  },
  {
   "cell_type": "markdown",
   "id": "9dcb4a0c-abe4-4af3-b6cb-1ab67361163b",
   "metadata": {},
   "source": [
    "### How many girls in 400 births?\n",
    "\n",
    "Suppose the probability is a girl (1) or a boy (2) is about 48.8% or 51.2%, respectively. What does a single sample look like?"
   ]
  },
  {
   "cell_type": "code",
   "execution_count": 3,
   "id": "8332078f-8260-4aa3-bc8e-b1ceb249078b",
   "metadata": {},
   "outputs": [
    {
     "data": {
      "text/plain": [
       "<tf.Tensor: id=88, shape=(400,), dtype=float32, numpy=\n",
       "array([0., 0., 0., 1., 0., 1., 0., 0., 1., 0., 1., 0., 0., 1., 0., 1., 0.,\n",
       "       0., 0., 0., 0., 1., 0., 1., 0., 1., 0., 0., 0., 0., 0., 1., 0., 0.,\n",
       "       0., 1., 1., 1., 0., 0., 0., 0., 1., 1., 0., 0., 1., 0., 1., 0., 0.,\n",
       "       0., 0., 0., 1., 1., 0., 1., 0., 1., 0., 0., 0., 0., 0., 0., 1., 0.,\n",
       "       0., 1., 0., 1., 1., 1., 1., 0., 1., 0., 0., 0., 0., 0., 0., 1., 0.,\n",
       "       0., 0., 0., 1., 0., 0., 0., 0., 1., 0., 1., 1., 0., 1., 0., 1., 1.,\n",
       "       1., 1., 0., 1., 0., 0., 1., 0., 0., 1., 1., 0., 0., 1., 0., 0., 1.,\n",
       "       0., 0., 1., 0., 1., 0., 0., 1., 0., 1., 0., 0., 1., 1., 0., 0., 1.,\n",
       "       1., 1., 1., 0., 0., 1., 0., 1., 0., 0., 0., 1., 0., 0., 1., 1., 1.,\n",
       "       0., 0., 0., 1., 1., 0., 1., 1., 0., 1., 1., 1., 0., 0., 1., 1., 1.,\n",
       "       1., 0., 0., 1., 1., 1., 1., 1., 1., 1., 0., 0., 0., 1., 0., 0., 0.,\n",
       "       0., 0., 1., 1., 1., 1., 1., 0., 0., 1., 0., 1., 1., 1., 0., 1., 1.,\n",
       "       0., 1., 0., 0., 1., 0., 1., 1., 0., 1., 1., 0., 1., 1., 0., 1., 0.,\n",
       "       0., 1., 0., 1., 0., 1., 0., 0., 1., 0., 1., 1., 0., 1., 0., 0., 0.,\n",
       "       1., 0., 1., 0., 0., 1., 1., 1., 1., 1., 0., 1., 1., 1., 1., 1., 0.,\n",
       "       1., 1., 1., 0., 0., 0., 1., 1., 0., 1., 0., 1., 0., 0., 0., 1., 1.,\n",
       "       0., 0., 0., 1., 0., 0., 0., 1., 0., 0., 0., 1., 1., 0., 1., 0., 0.,\n",
       "       1., 0., 1., 0., 1., 1., 0., 0., 1., 1., 1., 1., 1., 0., 1., 1., 1.,\n",
       "       1., 1., 0., 0., 1., 1., 0., 0., 0., 0., 0., 1., 1., 0., 1., 0., 1.,\n",
       "       1., 0., 0., 1., 0., 0., 1., 0., 1., 0., 0., 0., 0., 0., 0., 1., 1.,\n",
       "       1., 1., 1., 1., 1., 1., 1., 1., 1., 0., 0., 1., 0., 1., 1., 1., 0.,\n",
       "       0., 1., 0., 0., 1., 0., 0., 1., 0., 0., 0., 1., 1., 0., 0., 0., 1.,\n",
       "       1., 1., 1., 0., 1., 0., 0., 1., 1., 1., 1., 1., 1., 0., 1., 1., 1.,\n",
       "       0., 0., 1., 1., 1., 0., 1., 1., 1.], dtype=float32)>"
      ]
     },
     "execution_count": 3,
     "metadata": {},
     "output_type": "execute_result"
    }
   ],
   "source": [
    "class GirlSim:\n",
    "    \n",
    "    def __init__(self, p_girl: float) -> None:\n",
    "        self.p_girl: float = p_girl\n",
    "        self.p_boy: float = 1 - p_girl\n",
    "        self.sampler: tfd.Binomial = tfd.Binomial(total_count=1, probs=[self.p_girl])\n",
    "    \n",
    "    def sample(self, draws: int) -> tf.Tensor:\n",
    "        \"\"\"Just for convenience\"\"\"\n",
    "        return self.sampler.sample(draws)\n",
    "    \n",
    "    def sample_dist(self, shape: tf.TensorShape) -> tf.Tensor:\n",
    "        tot_draws: tf.Tensor = tf.reshape(self.sampler.sample(shape), shape)\n",
    "        dist: tf.Tensor = tf.reduce_sum(tot_draws, axis=1)\n",
    "        return dist\n",
    "    \n",
    "    def plot_sample_dist(self, shape: tf.TensorShape) -> go.Figure:\n",
    "        fig: go.Figure = go.Figure()\n",
    "        fig.add_trace(go.Histogram(\n",
    "            x=self.sample_dist(shape)\n",
    "        ))\n",
    "        fig.update_layout(template=\"plotly_white\", title_text=f\"Sample Distribution: {shape}\")\n",
    "        return fig\n",
    "    \n",
    "    \n",
    "gs: GirlSim = GirlSim(.488)\n",
    "single_sample: tf.Tensor = tf.reshape(gs.sample(400), [-1])\n",
    "\n",
    "single_sample"
   ]
  },
  {
   "cell_type": "code",
   "execution_count": 4,
   "id": "75302634-95b0-44cd-8154-0c5ff47cf7e5",
   "metadata": {},
   "outputs": [
    {
     "data": {
      "text/plain": [
       "<tf.Tensor: id=92, shape=(), dtype=float32, numpy=0.49>"
      ]
     },
     "execution_count": 4,
     "metadata": {},
     "output_type": "execute_result"
    }
   ],
   "source": [
    "tf.reduce_sum(single_sample) / 400."
   ]
  },
  {
   "cell_type": "code",
   "execution_count": 5,
   "id": "18b4c884-a690-4766-9dde-9811261b6919",
   "metadata": {},
   "outputs": [
    {
     "ename": "AttributeError",
     "evalue": "'Figure' object has no attribute 'update_layout'",
     "output_type": "error",
     "traceback": [
      "\u001b[0;31m---------------------------------------------------------------------------\u001b[0m",
      "\u001b[0;31mAttributeError\u001b[0m                            Traceback (most recent call last)",
      "\u001b[0;32m<ipython-input-5-ac933d27a981>\u001b[0m in \u001b[0;36m<module>\u001b[0;34m\u001b[0m\n\u001b[0;32m----> 1\u001b[0;31m \u001b[0mgs\u001b[0m\u001b[0;34m.\u001b[0m\u001b[0mplot_sample_dist\u001b[0m\u001b[0;34m(\u001b[0m\u001b[0mtf\u001b[0m\u001b[0;34m.\u001b[0m\u001b[0mTensorShape\u001b[0m\u001b[0;34m(\u001b[0m\u001b[0;34m(\u001b[0m\u001b[0;36m400\u001b[0m\u001b[0;34m,\u001b[0m\u001b[0;36m1000\u001b[0m\u001b[0;34m)\u001b[0m\u001b[0;34m)\u001b[0m\u001b[0;34m)\u001b[0m\u001b[0;34m\u001b[0m\u001b[0;34m\u001b[0m\u001b[0m\n\u001b[0m",
      "\u001b[0;32m<ipython-input-3-00742415be1f>\u001b[0m in \u001b[0;36mplot_sample_dist\u001b[0;34m(self, shape)\u001b[0m\n\u001b[1;32m     20\u001b[0m             \u001b[0mx\u001b[0m\u001b[0;34m=\u001b[0m\u001b[0mself\u001b[0m\u001b[0;34m.\u001b[0m\u001b[0msample_dist\u001b[0m\u001b[0;34m(\u001b[0m\u001b[0mshape\u001b[0m\u001b[0;34m)\u001b[0m\u001b[0;34m\u001b[0m\u001b[0;34m\u001b[0m\u001b[0m\n\u001b[1;32m     21\u001b[0m         ))\n\u001b[0;32m---> 22\u001b[0;31m         \u001b[0mfig\u001b[0m\u001b[0;34m.\u001b[0m\u001b[0mupdate_layout\u001b[0m\u001b[0;34m(\u001b[0m\u001b[0mtemplate\u001b[0m\u001b[0;34m=\u001b[0m\u001b[0;34m\"plotly_white\"\u001b[0m\u001b[0;34m,\u001b[0m \u001b[0mtitle_text\u001b[0m\u001b[0;34m=\u001b[0m\u001b[0;34mf\"Sample Distribution: {shape}\"\u001b[0m\u001b[0;34m)\u001b[0m\u001b[0;34m\u001b[0m\u001b[0;34m\u001b[0m\u001b[0m\n\u001b[0m\u001b[1;32m     23\u001b[0m         \u001b[0;32mreturn\u001b[0m \u001b[0mfig\u001b[0m\u001b[0;34m\u001b[0m\u001b[0;34m\u001b[0m\u001b[0m\n\u001b[1;32m     24\u001b[0m \u001b[0;34m\u001b[0m\u001b[0m\n",
      "\u001b[0;31mAttributeError\u001b[0m: 'Figure' object has no attribute 'update_layout'"
     ]
    }
   ],
   "source": [
    "gs.plot_sample_dist(tf.TensorShape((400,1000)))"
   ]
  },
  {
   "cell_type": "code",
   "execution_count": null,
   "id": "f9f994b9-b976-4e3d-8934-33dda96beed6",
   "metadata": {},
   "outputs": [],
   "source": []
  }
 ],
 "metadata": {
  "kernelspec": {
   "display_name": "Python 3",
   "language": "python",
   "name": "python3"
  },
  "language_info": {
   "codemirror_mode": {
    "name": "ipython",
    "version": 3
   },
   "file_extension": ".py",
   "mimetype": "text/x-python",
   "name": "python",
   "nbconvert_exporter": "python",
   "pygments_lexer": "ipython3",
   "version": "3.7.11"
  }
 },
 "nbformat": 4,
 "nbformat_minor": 5
}
