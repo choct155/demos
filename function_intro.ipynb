{
 "cells": [
  {
   "cell_type": "markdown",
   "id": "0c82f205-3017-46c9-8dc3-87d3a20dc985",
   "metadata": {},
   "source": [
    "# Functions\n",
    "\n",
    "Every program can be thought of as a series of transformations. We start with input data, and end up with our output. Every intermediate step is also just some transformation from an input to an output. In mathematics, we call the machinery that performs this transformation a *function*.\n",
    "\n",
    "Consider the function below:\n",
    "\n",
    "$$f: x, y \\rightarrow x + y$$\n",
    "\n",
    "The function $f$ takes two input arguments, $x$ and $y$ and returns a single value, the sum of $x$ and $y$. In a programming language like Python, we also have the *function* construct."
   ]
  },
  {
   "cell_type": "code",
   "execution_count": 2,
   "id": "1ed5179c-ea4f-4f7e-a696-4cd2827e14e2",
   "metadata": {},
   "outputs": [
    {
     "data": {
      "text/plain": [
       "5"
      ]
     },
     "execution_count": 2,
     "metadata": {},
     "output_type": "execute_result"
    }
   ],
   "source": [
    "def add(x: int, y: int) -> int:\n",
    "    \"\"\"\n",
    "    Function takes two integers and returns their sum,\n",
    "    also an integer\n",
    "    \"\"\"\n",
    "    result: int = x + y\n",
    "    return result\n",
    "\n",
    "add(3, 2)"
   ]
  },
  {
   "cell_type": "markdown",
   "id": "e949c0ec-2f9b-4651-a47a-5613357b4d27",
   "metadata": {},
   "source": [
    "### Anatomy of a Function\n",
    "\n",
    "The function `add()` has not only the mathematical analogue, but also all of the syntax that is typical of functions in Python.\n",
    "\n",
    "Our function declaration begins with...\n",
    "```python\n",
    "def\n",
    "```\n",
    "\n",
    "It is a keyword that tells Python that we are about to **def**ine a function. This is a sufficiently critical role that we are not permitted to use `def` for anything else.\n",
    "\n",
    "Next we include the function name...\n",
    "\n",
    "```python\n",
    "def add\n",
    "```\n",
    "\n",
    "Just as we saw with individual values, our labels provide us with a means of abstraction. If we trust the way that `add()` is implemented, *we no longer need to concern ourselves with how it works*. It is just a black box that reliably delivers the sum of the inputs. This is one way in which programming languages help us control complexity. Now that we have the label `add` we can lift the level of reasoning about our task to the semantic level instead remaining mired in low-level implementation. Need to get the sum of two integers? You have a tool that is intuitively called `add` for this purpose.\n",
    "\n",
    "Then comes the parameter list...\n",
    "\n",
    "```python\n",
    "def add(x: int, y: int)\n",
    "```\n",
    "\n",
    "We know that a function is a mapping of inputs to outputs, but how do we manipulate these inputs? How many are there? What properties do they have? Our parameter list holds all of this information. There are two inputs that we can manipulate in the body of the function by using their labels, $x$ and $y$. We can use them as we would integers ... because they are integers.\n",
    "\n",
    "What are we getting out of this thing?\n",
    "\n",
    "```python\n",
    "def add(x: int, y: int) -> int:\n",
    "```\n",
    "\n",
    "We don't know yet what the output value is called inside the function, if it even has a name. That's ok because the name it takes inside the function will not be relevant outside of the function (more on that later). We do know that the output value, whatever it's called, will be an integer. This is very important information because it tells us what we can do to or with the value that comes out of the function. \n",
    "\n",
    "The full line, including the declaration, name, parameter list, and output type, is known as the *function signature*. In Python it is punctuated with a `:` to mark the end. In the majority of cases, the function signature is the only thing we need to know about the function. It tells you what goes in and out, how to call it, and hopefully has a label that tells you something about what it does.\n",
    "\n",
    "Next comes the *docstring*...\n",
    "\n",
    "```python\n",
    "def add(x: int, y: int) -> int:\n",
    "    \"\"\"\n",
    "    Function takes two integers and returns their sum,\n",
    "    also an integer\n",
    "    \"\"\"\n",
    "```\n",
    "\n",
    "The docstring provides users of the function with more information about the function. In this case, it's a bit redundant because it just tells the user information that can already be gleaned from the function signature. That said, this is a very simple function. In more complicated cases, clarification on how the function works, pitfalls to look out for, or assumptions that were baked into the design of the function would be relevant information to include in the docstring.\n",
    "\n",
    "Inside the body, which sits under the function signature in indented fashion, note that we assign the label `result` to the sum of `x` and `y`. This label, `result`, is *only* relevant inside of the function body. We'll address why when we discuss scoping. \n",
    "\n",
    "```python\n",
    "def add(x: int, y: int) -> int:\n",
    "    \"\"\"\n",
    "    Function takes two integers and returns their sum,\n",
    "    also an integer\n",
    "    \"\"\"\n",
    "    result: int = x + y\n",
    "```\n",
    "For now, we can simply recognize `result` as being attached to the value we wish to pass out of the function. \n",
    "\n",
    "Remember, the goal was not to just throw some integers into a function. We wanted to get their sum back, so we *must* explicitly return the value back to the calling scope (whereever we invoke the `add()` function). Enter another keyword: `return`.\n",
    "\n",
    "```python\n",
    "def add(x: int, y: int) -> int:\n",
    "    \"\"\"\n",
    "    Function takes two integers and returns their sum,\n",
    "    also an integer\n",
    "    \"\"\"\n",
    "    result: int = x + y\n",
    "    return result\n",
    "```\n",
    "\n",
    "Just like we saw with `def`, the role of `return` is so critical that we do not allow it to be used for anything else. The only thing that `return` does is pass values from inside the function to the outside."
   ]
  },
  {
   "cell_type": "markdown",
   "id": "86906703-b4da-4614-9c28-767e5e2809aa",
   "metadata": {},
   "source": [
    "### Lexical Scoping\n",
    "\n",
    "This is a very scary sounding term, but the concept is quite intuitive. A good understanding of scoping will save you a lot of unnecessary headaches. Let's work our way up to it.\n",
    "\n",
    "The first thing to note is that functions are *first-class objects* in Python. For our purposes, you can just think of this as meaning you can define functions pretty much anyway, including inside of other functions."
   ]
  },
  {
   "cell_type": "code",
   "execution_count": 3,
   "id": "9fb7215a-0fd2-42a9-ac71-b6d46400b720",
   "metadata": {},
   "outputs": [
    {
     "data": {
      "text/plain": [
       "True"
      ]
     },
     "execution_count": 3,
     "metadata": {},
     "output_type": "execute_result"
    }
   ],
   "source": [
    "def sum_is_even(x: int, y: int) -> bool:\n",
    "    \"\"\"\n",
    "    Returns True if the sum of the inputs is even,\n",
    "    and False if the sum is odd.\n",
    "    \"\"\"\n",
    "    \n",
    "    def is_even(z: int) -> bool:\n",
    "        return z % 2 == 0\n",
    "    \n",
    "    my_sum: int = add(x, y)\n",
    "    my_sum_is_even: bool = is_even(my_sum)\n",
    "    return my_sum_is_even\n",
    "\n",
    "sum_is_even(3, 7)"
   ]
  },
  {
   "cell_type": "markdown",
   "id": "d5d03acb-7bc8-4022-ae03-181620b2dc09",
   "metadata": {},
   "source": [
    "We have three functions firing here:\n",
    "\n",
    "1. `sum_is_even()` is the primary function we have just defined.\n",
    "2. `add()` is a function we have already defined elsewhere, and we use it in the body of `sum_is_even()`.\n",
    "3. `is_even()` is a function we defined *inside of the body* of `sum_is_even()`.\n",
    "\n",
    "Utter madness. How are we going to sort all of this out? Lexical scoping!\n",
    "\n",
    "Forgive me for playing a little fast and loose with the definition of scope, but I think the following provides the right kind of intuition. You can think of a scope as the environment of relevance, and relevance means you can reference a given variable. As a practical matter, scopes in Python can usually be identified via indentation. The function scope of `sum_is_even()` is everything below the function signature right up to and including the `return` statement. The function scope of `is_even()` is just one line long: its `return` statement. In other words, there are two scopes in `sum_is_even()`: the scope corresponding to the body of `sum_is_even()` and the scope of `is_even()` which it encloses.\n",
    "\n",
    "Note that the function scope of `sum_is_even()` is *itself enclosed by another scope*! The ubiquitous global scope that contains all other scopes is typically that which is associated with the `main()` function. You can be forgiven for not realizing there was a `main()` function since we didn't define it, but it's there. Every program has some form of a `main()` function, whether you define it explicitly or not.\n",
    "\n",
    "In a nutshell, there are three rules:\n",
    "\n",
    "1. A label must be assigned upstream of it's first use, as in literally higher up in the document.\n",
    "2. Labels assigned in an scopes that enclose the current scope are available for use.\n",
    "3. Labels assigned in an enclosed scope defined inside of the current scope are not available for use.\n",
    "\n",
    "Said differently, you can go \"up\" to get stuff (earlier in the program or to an enclosing scope), but you can't go \"down\" (later in a program or to an enclosed scope). \n",
    "\n",
    "Cool, cool, cool. Why do we care? For one, lexical scoping sorts out the thicket of functions defined above. Both `add()` were defined in the current scope (i.e. `main()`) so we can use them without incident. However, `is_even()` was defined in an enclosed scope (i.e. inside `sum_is_even()`, which is enclosed by `main()`), so what happens if we try use that?"
   ]
  },
  {
   "cell_type": "code",
   "execution_count": 5,
   "id": "07a89afa-fa6a-489a-8871-ed6fd70bcf58",
   "metadata": {},
   "outputs": [
    {
     "name": "stdout",
     "output_type": "stream",
     "text": [
      "name 'is_even' is not defined\n"
     ]
    }
   ],
   "source": [
    "try:\n",
    "    is_even(2)\n",
    "except NameError as e:\n",
    "    print(e)"
   ]
  },
  {
   "cell_type": "markdown",
   "id": "9703abe5-4eab-41ed-8bab-b111bf4652bc",
   "metadata": {},
   "source": [
    "`is_even()` is apparently not defined despite the fact that we did define it. Even in this simple example, this seems odd. When programs get more complicated, this behavior can be downright baffling if you don't intuitively understand scoping. The key is this: from the perspective of `main()`, `is_even()` does not exist because it is *local* to `sum_is_even()`.\n",
    "\n",
    "The corollary, of course, is that nothing defined in an enclosed scope is freely available to the enclosing scope. Not just functions, but also plain old values, and classes (which are beyond the scope of this notebook). The only exceptions are those values which are passed back out via the `return` statement.\n",
    "\n",
    "With that, we have a more robust way to understand the function of *parameter lists* and the *return* statement. They are portals between hierarchical scopes:\n",
    "\n",
    "+ The *parameter list* is the means by which we can formally pass variables from an enclosing scope into an scope it encloses.\n",
    "  + This is not the only way, because you could just reference the variables in the enclosed scope. But, it is usefully explicit.\n",
    "+ The *return* statement is the *only* means by which you can pass values from an enclosed scope back to the enclosing scope."
   ]
  },
  {
   "cell_type": "markdown",
   "id": "ce85dd9a-c661-4c5b-9ed0-7b43a7583500",
   "metadata": {},
   "source": [
    "## Composition\n",
    "\n",
    "Let us revisit our function `add()`."
   ]
  },
  {
   "cell_type": "code",
   "execution_count": 6,
   "id": "635c09b0-86dd-4ca6-b131-fccd8afe1d23",
   "metadata": {},
   "outputs": [
    {
     "data": {
      "text/plain": [
       "3"
      ]
     },
     "execution_count": 6,
     "metadata": {},
     "output_type": "execute_result"
    }
   ],
   "source": [
    "add(1, 2)"
   ]
  },
  {
   "cell_type": "markdown",
   "id": "e1fcdb16-2bf3-43ae-b569-76c47bdd6ed9",
   "metadata": {},
   "source": [
    "When we called `add()`, it evaluated the expression contained within the body and return the result. So, is the function call operationally distinguishable from the returned value?"
   ]
  },
  {
   "cell_type": "code",
   "execution_count": 7,
   "id": "0d67afdc-6687-4e6d-b152-c05e48663285",
   "metadata": {},
   "outputs": [
    {
     "data": {
      "text/plain": [
       "True"
      ]
     },
     "execution_count": 7,
     "metadata": {},
     "output_type": "execute_result"
    }
   ],
   "source": [
    "add(1, 2) == 3"
   ]
  },
  {
   "cell_type": "markdown",
   "id": "9df78c34-b181-43ac-907a-14dd9354b522",
   "metadata": {},
   "source": [
    "It would appear that everywhere we want to use `3`, we could use `add(1, 2)`, and vice versa. They are operationally equivalent from a value perspective. So, what happens if we passed an evaluated function as an argument to another function?"
   ]
  },
  {
   "cell_type": "code",
   "execution_count": 8,
   "id": "e0c2ed3a-0aca-4a88-a274-ce42e9a753c6",
   "metadata": {},
   "outputs": [
    {
     "data": {
      "text/plain": [
       "True"
      ]
     },
     "execution_count": 8,
     "metadata": {},
     "output_type": "execute_result"
    }
   ],
   "source": [
    "sum_is_even(add(1, 2), add(4, 3))"
   ]
  },
  {
   "cell_type": "markdown",
   "id": "b11927d2-55b2-49b8-8fcf-a0148fb691b5",
   "metadata": {},
   "source": [
    "It seems the computer did not spontaneously combust. Why did this work?\n",
    "\n",
    "Remember that a function is just a mapping from inputs to outputs. So long as the enclosing function can map the output of the evaluated function parameter to a new output, it will do so reliably. This is called *composition*. Again, there is a mathematical analog. Suppose we have two functions:\n",
    "\n",
    "\\begin{align}\n",
    "    f: x &\\rightarrow x \\times 2 \\\\\n",
    "    g: x &\\rightarrow x + 10\n",
    "\\end{align}\n",
    "\n",
    "We could define a new function $h$ as their composition.\n",
    "\n",
    "$$h: x \\rightarrow (g \\circ f)(x) \\iff x \\rightarrow (x \\times 2) + 10$$\n",
    "\n",
    "This idea is a very powerful one, because it reduces the space of functions we must write by allowing us to leverage abstraction. That is, if we have well designed generic functions that do one specific thing well, we can compose them together to achieve our objective without reinventing the wheel.\n",
    "\n",
    "### Case Study: `map()`\n",
    "\n",
    "Often we are faced with a situation in which we want to perform an operation on all of the values in a `list`. Let's say we want to run a regression and our data includes prices. We don't want to use raw prices directly, but the logarithm of prices. How do we go about converting all of our prices to their logged form? Enter `map()`.\n",
    "\n",
    "At the end of the day, we have two things we want to do:\n",
    "\n",
    "1. We want to contact every value in the `list`.\n",
    "2. When we contact a value, we want to log transform it.\n",
    "\n",
    "The second one is easy enough."
   ]
  },
  {
   "cell_type": "code",
   "execution_count": 16,
   "id": "f3dd7657-bfbb-4cea-8d90-d916973dfaf9",
   "metadata": {},
   "outputs": [
    {
     "data": {
      "text/plain": [
       "6.907755278982137"
      ]
     },
     "execution_count": 16,
     "metadata": {},
     "output_type": "execute_result"
    }
   ],
   "source": [
    "import numpy as np\n",
    "from typing import List, Callable\n",
    "\n",
    "def log_my_value(x: float) -> float:\n",
    "    return np.log(x)\n",
    "\n",
    "log_my_value(1000)"
   ]
  },
  {
   "cell_type": "markdown",
   "id": "e2a0e10f-57ea-4c9a-a828-cc53b5865353",
   "metadata": {},
   "source": [
    "This whole \"contact every value\" feels a bit abstract. What do we do when we get there? The key is, we don't have to care. We can leave that part unspecified and rely on composition to get us there when the time comes. *Note that `Callable` just means function. A `Callable[[int, int], int]` takes two integer values and returns and integer*."
   ]
  },
  {
   "cell_type": "code",
   "execution_count": 20,
   "id": "c0c68a58-ac9c-45b0-9d54-695f8dd4aa7b",
   "metadata": {},
   "outputs": [
    {
     "name": "stdout",
     "output_type": "stream",
     "text": [
      "Underlying Values:  [0.5 1.  1.5 2.  2.5 3.  3.5 4.  4.5 5.  5.5]\n",
      "Exponentiated:  [1.6487212707001282, 2.718281828459045, 4.4816890703380645, 7.38905609893065, 12.182493960703473, 20.085536923187668, 33.11545195869231, 54.598150033144236, 90.01713130052181, 148.4131591025766, 244.69193226422038]\n",
      "Logged:  [0.5, 1.0, 1.5, 2.0, 2.5, 3.0, 3.5, 4.0, 4.5, 5.0, 5.5]\n"
     ]
    }
   ],
   "source": [
    "def my_map(f: Callable[[float], float], vals: List[float]) -> List[float]:\n",
    "    out: List[float] = []\n",
    "    for elem in vals:\n",
    "        out.append(f(elem))\n",
    "    return out\n",
    "\n",
    "underlying_vals: List[float] = np.linspace(0.5, 5.5, 11)\n",
    "vals_to_be_logged: List[float] = my_map(np.exp, underlying_vals)\n",
    "logged_vals: List[float] = my_map(log_my_value, vals_to_be_logged)\n",
    "\n",
    "print(\"Underlying Values: \", underlying_vals)\n",
    "print(\"Exponentiated: \", vals_to_be_logged)\n",
    "print(\"Logged: \", logged_vals)"
   ]
  },
  {
   "cell_type": "markdown",
   "id": "d49abf6a-7d79-4cfa-9b8e-a986fd0aed33",
   "metadata": {},
   "source": [
    "Take a moment to appreciate how general `my_map`. We can use that on any list with values of any type. As long as we pass a function that can deal with one instance of the original type, `my_map` will work. That's the abstraction that composition buys us."
   ]
  }
 ],
 "metadata": {
  "kernelspec": {
   "display_name": "Python 3 (ipykernel)",
   "language": "python",
   "name": "python3"
  },
  "language_info": {
   "codemirror_mode": {
    "name": "ipython",
    "version": 3
   },
   "file_extension": ".py",
   "mimetype": "text/x-python",
   "name": "python",
   "nbconvert_exporter": "python",
   "pygments_lexer": "ipython3",
   "version": "3.9.4"
  }
 },
 "nbformat": 4,
 "nbformat_minor": 5
}
